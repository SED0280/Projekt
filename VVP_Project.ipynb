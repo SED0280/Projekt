{
 "cells": [
  {
   "attachments": {},
   "cell_type": "markdown",
   "metadata": {},
   "source": [
    "# Bludiště\n",
    "\n",
    "### autor: Michal Sedlář"
   ]
  },
  {
   "attachments": {},
   "cell_type": "markdown",
   "metadata": {},
   "source": [
    "#### Import mojí knihovny:"
   ]
  },
  {
   "cell_type": "code",
   "execution_count": 2,
   "metadata": {},
   "outputs": [],
   "source": [
    "import mazelib as mz"
   ]
  },
  {
   "attachments": {},
   "cell_type": "markdown",
   "metadata": {},
   "source": [
    "#### Načtení bludiště a zjišťování jestli má řešení:"
   ]
  },
  {
   "cell_type": "code",
   "execution_count": 27,
   "metadata": {},
   "outputs": [
    {
     "name": "stdout",
     "output_type": "stream",
     "text": [
      "Bludiste je resitelne\n"
     ]
    }
   ],
   "source": [
    "mazefile = \"data\\maze_2.csv\"\n",
    "maze = mz.nactiBludiste(mazefile)      \n",
    "possible = mz.IsMaze(maze)\n",
    "if(possible==False):\n",
    "    print(\"Bludiste nema reseni\")\n",
    "else:\n",
    "    print(\"Bludiste je resitelne\")"
   ]
  },
  {
   "attachments": {},
   "cell_type": "markdown",
   "metadata": {},
   "source": [
    "#### Vypsání bludiště pomocí jedniček a nul:"
   ]
  },
  {
   "cell_type": "code",
   "execution_count": 28,
   "metadata": {},
   "outputs": [
    {
     "name": "stdout",
     "output_type": "stream",
     "text": [
      "------------------------------------------\n",
      "|  ■ ■ ■ ■ ■ ■ ■ ■ ■ ■ ■ ■ ■ ■ ■ ■ ■ ■ ■ |\n",
      "|        ■ ■             ■ ■ ■ ■       ■ |\n",
      "|■   ■         ■         ■             ■ |\n",
      "|■ ■   ■ ■ ■ ■   ■ ■ ■       ■     ■ ■ ■ |\n",
      "|■ ■ ■       ■ ■ ■ ■   ■     ■         ■ |\n",
      "|■ ■   ■ ■ ■ ■   ■ ■ ■   ■ ■ ■     ■   ■ |\n",
      "|■ ■ ■ ■ ■ ■ ■ ■ ■ ■ ■ ■ ■ ■ ■ ■ ■     ■ |\n",
      "|■ ■   ■ ■ ■   ■ ■ ■       ■ ■ ■ ■     ■ |\n",
      "|■   ■ ■       ■       ■             ■ ■ |\n",
      "|■ ■ ■ ■   ■       ■ ■ ■   ■ ■   ■ ■ ■ ■ |\n",
      "|■ ■ ■     ■ ■   ■     ■ ■ ■   ■ ■ ■   ■ |\n",
      "|■ ■ ■   ■ ■ ■ ■   ■   ■ ■ ■ ■   ■   ■ ■ |\n",
      "|■           ■           ■       ■ ■ ■ ■ |\n",
      "|■   ■ ■ ■ ■ ■ ■ ■ ■ ■ ■ ■ ■ ■ ■ ■ ■ ■ ■ |\n",
      "|■   ■     ■ ■ ■ ■ ■             ■     ■ |\n",
      "|■       ■       ■     ■ ■ ■     ■ ■ ■ ■ |\n",
      "|■     ■ ■           ■ ■ ■     ■ ■   ■ ■ |\n",
      "|■ ■       ■   ■ ■ ■ ■           ■     ■ |\n",
      "|■ ■ ■ ■       ■ ■   ■ ■ ■             ■ |\n",
      "|■ ■ ■ ■ ■ ■ ■ ■ ■ ■ ■ ■ ■ ■ ■ ■ ■ ■     |\n",
      "------------------------------------------\n"
     ]
    }
   ],
   "source": [
    "if(possible==True):\n",
    "    mz.printMaze(maze)"
   ]
  },
  {
   "attachments": {},
   "cell_type": "markdown",
   "metadata": {},
   "source": [
    "#### Zjišťování incedenční matice a pozice prazdnych míst v bludišti:"
   ]
  },
  {
   "cell_type": "code",
   "execution_count": 29,
   "metadata": {},
   "outputs": [],
   "source": [
    "if(possible==True):\n",
    "    inmat, nodes = mz.makeIncidencniMatice(maze)\n",
    "    #print(inmat,\"\\n\",nodes)"
   ]
  },
  {
   "attachments": {},
   "cell_type": "markdown",
   "metadata": {},
   "source": [
    "#### Zjišťování nejkratší cesty v bludišti pomocí Dijkstova algoritmu a výpis této cesty:"
   ]
  },
  {
   "cell_type": "code",
   "execution_count": 30,
   "metadata": {},
   "outputs": [
    {
     "name": "stdout",
     "output_type": "stream",
     "text": [
      "------------------------------------------\n",
      "|. ■ ■ ■ ■ ■ ■ ■ ■ ■ ■ ■ ■ ■ ■ ■ ■ ■ ■ ■ |\n",
      "|. . . . ■ ■ . . . . . . ■ ■ ■ ■       ■ |\n",
      "|■   ■ . . . . ■       . ■ . . . .     ■ |\n",
      "|■ ■   ■ ■ ■ ■   ■ ■ ■ . . . ■   . ■ ■ ■ |\n",
      "|■ ■ ■       ■ ■ ■ ■   ■     ■   . . . ■ |\n",
      "|■ ■   ■ ■ ■ ■   ■ ■ ■   ■ ■ ■     ■ . ■ |\n",
      "|■ ■ ■ ■ ■ ■ ■ ■ ■ ■ ■ ■ ■ ■ ■ ■ ■ . . ■ |\n",
      "|■ ■   ■ ■ ■   ■ ■ ■ . . . ■ ■ ■ ■ .   ■ |\n",
      "|■   ■ ■ . . . ■ . . . ■ . . . . . . ■ ■ |\n",
      "|■ ■ ■ ■ . ■ . . . ■ ■ ■   ■ ■   ■ ■ ■ ■ |\n",
      "|■ ■ ■ . . ■ ■   ■     ■ ■ ■   ■ ■ ■   ■ |\n",
      "|■ ■ ■ . ■ ■ ■ ■   ■   ■ ■ ■ ■   ■   ■ ■ |\n",
      "|■ . . .     ■           ■       ■ ■ ■ ■ |\n",
      "|■ . ■ ■ ■ ■ ■ ■ ■ ■ ■ ■ ■ ■ ■ ■ ■ ■ ■ ■ |\n",
      "|■ . ■     ■ ■ ■ ■ ■ . . . . .   ■     ■ |\n",
      "|■ . .   ■       ■ . . ■ ■ ■ .   ■ ■ ■ ■ |\n",
      "|■   . ■ ■   . . . . ■ ■ ■   . ■ ■   ■ ■ |\n",
      "|■ ■ . . . ■ . ■ ■ ■ ■       . . ■     ■ |\n",
      "|■ ■ ■ ■ . . . ■ ■   ■ ■ ■     . . . . ■ |\n",
      "|■ ■ ■ ■ ■ ■ ■ ■ ■ ■ ■ ■ ■ ■ ■ ■ ■ ■ . . |\n",
      "------------------------------------------\n"
     ]
    }
   ],
   "source": [
    "if(possible==True):\n",
    "    path = mz.DijkstraFindPath(inmat,nodes)\n",
    "    mz.printMazePath(maze,path)"
   ]
  },
  {
   "attachments": {},
   "cell_type": "markdown",
   "metadata": {},
   "source": [
    "#### Uložení obrázku do souboru maze1.png:"
   ]
  },
  {
   "cell_type": "code",
   "execution_count": 10,
   "metadata": {},
   "outputs": [],
   "source": [
    "mz.mazePathToImg(maze,path,\"maze1\")"
   ]
  },
  {
   "attachments": {
    "maze1 - resize.png": {
     "image/png": "[encoded data removed]"
    }
   },
   "cell_type": "markdown",
   "metadata": {},
   "source": [
    "#### Zvětšená verze vykresleného obrázku obrázku z maze_2.csv:\n",
    "\n",
    "![maze1 - resize.png](<attachment:maze1 - resize.png>)"
   ]
  },
  {
   "attachments": {},
   "cell_type": "markdown",
   "metadata": {},
   "source": [
    "#### Generování bludiště a jeho výpis:"
   ]
  },
  {
   "cell_type": "code",
   "execution_count": 31,
   "metadata": {},
   "outputs": [
    {
     "name": "stdout",
     "output_type": "stream",
     "text": [
      "--------------------\n",
      "|. . .             |\n",
      "|■ ■ . ■   ■   ■   |\n",
      "|. . . ■           |\n",
      "|. ■ ■ ■ ■ ■ ■ ■   |\n",
      "|. . . . .         |\n",
      "|  ■ ■ ■ . ■ ■ ■ ■ |\n",
      "|        . . . . . |\n",
      "|■ ■ ■ ■   ■ ■ ■ . |\n",
      "|  ■       ■     . |\n",
      "--------------------\n"
     ]
    }
   ],
   "source": [
    "mazegen=mz.generateMaze(9,9,\"grid\")\n",
    "inmatgen, nodesgen=mz.makeIncidencniMatice(mazegen)\n",
    "pathgen=mz.DijkstraFindPath(inmatgen,nodesgen)\n",
    "\n",
    "mz.printMazePath(mazegen,pathgen)"
   ]
  },
  {
   "attachments": {},
   "cell_type": "markdown",
   "metadata": {},
   "source": [
    "#### Uložení generovaného bludiště do souboru maze2.png:"
   ]
  },
  {
   "cell_type": "code",
   "execution_count": 32,
   "metadata": {},
   "outputs": [],
   "source": [
    "mz.mazePathToImg(mazegen,pathgen,\"maze2\")"
   ]
  },
  {
   "attachments": {
    "mazeClean.png": {
     "image/png": "[encoded data removed]"
    },
    "mazeGrid.png": {
     "image/png": "[encoded data removed]"
    },
    "mazeRand.png": {
     "image/png": "[encoded data removed]"
    },
    "mazeSnake.png": {
     "image/png": "[encoded data removed]"
    },
    "mazeZz1.png": {
     "image/png": "[encoded data removed]"
    },
    "mazeZz2.png": {
     "image/png": "[encoded data removed]"
    },
    "mazeZz3.png": {
     "image/png": "[encoded data removed]"
    },
    "mazeZz4.png": {
     "image/png": "[encoded data removed]"
    }
   },
   "cell_type": "markdown",
   "metadata": {},
   "source": [
    "#### Ukázka všech typů generovaných bludišť:\n",
    "* random:\n",
    "\n",
    "![mazeRand.png](attachment:mazeRand.png)\n",
    "\n",
    "* grid:\n",
    "\n",
    "![mazeGrid.png](attachment:mazeGrid.png)\n",
    "\n",
    "* clean:\n",
    "\n",
    "![mazeClean.png](attachment:mazeClean.png)\n",
    "\n",
    "* zigzag1 - zigzag4:\n",
    "\n",
    "![mazeZz1.png](attachment:mazeZz1.png) ![mazeZz2.png](attachment:mazeZz2.png) ![mazeZz3.png](attachment:mazeZz3.png) ![mazeZz4.png](attachment:mazeZz4.png) \n",
    "\n",
    "* zigzagRandom je jedno náhodně vybrané bludiště ze čtyř předchozích.\n",
    "\n",
    "* snake:\n",
    "\n",
    "![mazeSnake.png](attachment:mazeSnake.png)\n",
    "\n",
    "\n",
    "\n",
    "\n"
   ]
  }
 ],
 "metadata": {
  "kernelspec": {
   "display_name": "base",
   "language": "python",
   "name": "python3"
  },
  "language_info": {
   "codemirror_mode": {
    "name": "ipython",
    "version": 3
   },
   "file_extension": ".py",
   "mimetype": "text/x-python",
   "name": "python",
   "nbconvert_exporter": "python",
   "pygments_lexer": "ipython3",
   "version": "3.9.13"
  },
  "orig_nbformat": 4
 },
 "nbformat": 4,
 "nbformat_minor": 2
}
